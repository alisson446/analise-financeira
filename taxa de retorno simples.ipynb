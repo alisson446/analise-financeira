{
 "cells": [
  {
   "cell_type": "code",
   "execution_count": 1,
   "metadata": {},
   "outputs": [
    {
     "data": {
      "text/plain": [
       "'12.999999999999998%'"
      ]
     },
     "execution_count": 1,
     "metadata": {},
     "output_type": "execute_result"
    }
   ],
   "source": [
    "from pandas_datareader import data as wb\n",
    "import matplotlib as plt\n",
    "\n",
    "pg = wb.DataReader('PG', 'yahoo', start = '1995-1-1')\n",
    "pg['simple_return'] = (pg['Adj Close'] / pg['Adj Close'].shift(1)) -1 \n",
    "\n",
    "avg_return = pg['simple_return'].mean() # mean() faz a media\n",
    "avg_return_yearly = str(round(avg_return, 5) * 250 * 100) + '%' # 250 e o numero de dias de operacao\n",
    "avg_return_yearly"
   ]
  }
 ],
 "metadata": {
  "kernelspec": {
   "display_name": "Python 3",
   "language": "python",
   "name": "python3"
  },
  "language_info": {
   "codemirror_mode": {
    "name": "ipython",
    "version": 3
   },
   "file_extension": ".py",
   "mimetype": "text/x-python",
   "name": "python",
   "nbconvert_exporter": "python",
   "pygments_lexer": "ipython3",
   "version": "3.8.5"
  }
 },
 "nbformat": 4,
 "nbformat_minor": 4
}
